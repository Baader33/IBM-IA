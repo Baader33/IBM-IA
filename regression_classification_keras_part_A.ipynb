{
 "cells": [
  {
   "cell_type": "markdown",
   "id": "860d95b1-56c9-4c43-ac4f-a28565f65333",
   "metadata": {},
   "source": [
    "# Concrete Strength Prediction Model in Keras (Part A) #"
   ]
  },
  {
   "cell_type": "code",
   "execution_count": 1,
   "id": "b0b2c523-fb72-449b-8457-a5ae9f46e44b",
   "metadata": {
    "tags": []
   },
   "outputs": [],
   "source": [
    "import keras\n",
    "import numpy as np\n",
    "import pandas as pd\n",
    "from keras.models import Sequential\n",
    "from keras.layers import Dense\n",
    "from sklearn.model_selection import train_test_split\n",
    "from sklearn.metrics import mean_squared_error\n",
    "from tensorflow.keras import activations\n",
    "from tensorflow.keras.initializers import GlorotUniform"
   ]
  },
  {
   "cell_type": "markdown",
   "id": "fd9e5a66-826b-4cfd-a9be-942dd7677ddd",
   "metadata": {},
   "source": [
    "## Assignment Part A ##\n",
    "\n",
    "Requirements:\n",
    "1. Build a network with one hidden layer with 10 nodes and ReLU activation function\n",
    "2. Use Adam optimizer and MSE (mean squared error) loss function\n",
    "3. Randomly split the data into test / train using train_test_split function\n",
    "4. Train the model for 50 epochs\n",
    "5. Evaluate the model on the test data and compute the MSE between predicted concrete strength and actual concrete strength using MSE from Scikit-learn\n",
    "6. Repeat steps 1-3, 50 times and create a list of 50 mean squared errors\n",
    "7. Report the mean and standard deviation of the MSEs "
   ]
  },
  {
   "cell_type": "markdown",
   "id": "2a11be91-c63a-46fb-9408-a8a316c263c4",
   "metadata": {},
   "source": [
    "First, let's build a customizable model builder that can satisfy the requirements of the Assigment (different depth, shapes, activation functions)\n",
    "\n",
    "We'll test the model builder function to ensure it produces a valid model structure then proceed to fulfill the requirements for Part A of the Assignment."
   ]
  },
  {
   "cell_type": "code",
   "execution_count": 2,
   "id": "69c12a7d-78ed-42e8-aa73-9e550ba02d9d",
   "metadata": {
    "tags": []
   },
   "outputs": [],
   "source": [
    "def build_model(n_inputs, hidden_layers=[10, 10, 10], n_out=1, activation=activations.relu):\n",
    "    \"\"\"\n",
    "    builds a neural network using the depth and layer sizes provided by hidden_layers arg\n",
    "    choose an activation function from the supported functions in activations\n",
    "    \n",
    "    when Keras initializes the weights and biases, they're set to random values, this can \n",
    "    cause each instance of the model to perform radically differently \n",
    "    \n",
    "    As such, when we compare the results for different epochs, normalization, etc. the \n",
    "    weights and biases should be set using the same seed and initializer\n",
    "    \"\"\"\n",
    "    initializer = GlorotUniform(seed=808)\n",
    "    \n",
    "    model = Sequential()\n",
    "    for i, layer in enumerate(hidden_layers):\n",
    "        if i == 0:\n",
    "            # define the input shape based on n_inputs\n",
    "            model.add(Dense(hidden_layers[i], activation=activation, input_shape=(n_inputs,), kernel_initializer=initializer))\n",
    "        else:\n",
    "            # base the input shape on the previous layer\n",
    "            model.add(Dense(hidden_layers[i], activation=activation, input_shape=(hidden_layers[i-1],), kernel_initializer=initializer))\n",
    "    \n",
    "    # add our output layer\n",
    "    model.add(Dense(n_out, input_shape=(hidden_layers[len(hidden_layers)-1],), kernel_initializer=initializer))\n",
    "    \n",
    "    # build the model\n",
    "    model.compile(optimizer='adam', loss='mean_squared_error')\n",
    "    return model"
   ]
  },
  {
   "cell_type": "code",
   "execution_count": 3,
   "id": "8749dfca-d0ae-4231-b737-ebf63e15cead",
   "metadata": {
    "tags": []
   },
   "outputs": [
    {
     "name": "stdout",
     "output_type": "stream",
     "text": [
      "Model: \"sequential\"\n",
      "_________________________________________________________________\n",
      " Layer (type)                Output Shape              Param #   \n",
      "=================================================================\n",
      " dense (Dense)               (None, 10)                70        \n",
      "                                                                 \n",
      " dense_1 (Dense)             (None, 20)                220       \n",
      "                                                                 \n",
      " dense_2 (Dense)             (None, 30)                630       \n",
      "                                                                 \n",
      " dense_3 (Dense)             (None, 100)               3100      \n",
      "                                                                 \n",
      " dense_4 (Dense)             (None, 1)                 101       \n",
      "                                                                 \n",
      "=================================================================\n",
      "Total params: 4,121\n",
      "Trainable params: 4,121\n",
      "Non-trainable params: 0\n",
      "_________________________________________________________________\n",
      "Layer 1 input shape: 6 output shape:10\n",
      "Layer 2 input shape: 10 output shape:20\n",
      "Layer 3 input shape: 20 output shape:30\n",
      "Layer 4 input shape: 30 output shape:100\n",
      "Layer 5 input shape: 100 output shape:1\n"
     ]
    }
   ],
   "source": [
    "# test the model builder function and use model.summary to verify the shapes we expect from this test\n",
    "test_model = build_model(6, [10, 20, 30, 100], n_out=1)\n",
    "\n",
    "# show the model summary\n",
    "test_model.summary()\n",
    "\n",
    "# also, verify the input / output shapes since model.summary only shows outputs\n",
    "for i, layer in enumerate(test_model.layers):\n",
    "    print(\"Layer {0} input shape: {1} output shape:{2}\".format(i+1, layer.input_shape[1], layer.output_shape[1]))"
   ]
  },
  {
   "cell_type": "markdown",
   "id": "f4218fc5-108b-4561-8a5c-9cd2cf5881d5",
   "metadata": {
    "tags": []
   },
   "source": [
    "## Loading the concrete data into a pandas data frame ##"
   ]
  },
  {
   "cell_type": "code",
   "execution_count": 4,
   "id": "1dc1059d-7d94-441b-bdc6-797132bab10a",
   "metadata": {},
   "outputs": [
    {
     "data": {
      "text/html": [
       "<div>\n",
       "<style scoped>\n",
       "    .dataframe tbody tr th:only-of-type {\n",
       "        vertical-align: middle;\n",
       "    }\n",
       "\n",
       "    .dataframe tbody tr th {\n",
       "        vertical-align: top;\n",
       "    }\n",
       "\n",
       "    .dataframe thead th {\n",
       "        text-align: right;\n",
       "    }\n",
       "</style>\n",
       "<table border=\"1\" class=\"dataframe\">\n",
       "  <thead>\n",
       "    <tr style=\"text-align: right;\">\n",
       "      <th></th>\n",
       "      <th>Cement</th>\n",
       "      <th>Blast Furnace Slag</th>\n",
       "      <th>Fly Ash</th>\n",
       "      <th>Water</th>\n",
       "      <th>Superplasticizer</th>\n",
       "      <th>Coarse Aggregate</th>\n",
       "      <th>Fine Aggregate</th>\n",
       "      <th>Age</th>\n",
       "      <th>Strength</th>\n",
       "    </tr>\n",
       "  </thead>\n",
       "  <tbody>\n",
       "    <tr>\n",
       "      <th>525</th>\n",
       "      <td>359.0</td>\n",
       "      <td>19.0</td>\n",
       "      <td>141.0</td>\n",
       "      <td>154.0</td>\n",
       "      <td>10.9</td>\n",
       "      <td>942.0</td>\n",
       "      <td>801.0</td>\n",
       "      <td>3</td>\n",
       "      <td>25.12</td>\n",
       "    </tr>\n",
       "    <tr>\n",
       "      <th>996</th>\n",
       "      <td>152.6</td>\n",
       "      <td>238.7</td>\n",
       "      <td>0.0</td>\n",
       "      <td>200.0</td>\n",
       "      <td>6.3</td>\n",
       "      <td>1001.8</td>\n",
       "      <td>683.9</td>\n",
       "      <td>28</td>\n",
       "      <td>26.86</td>\n",
       "    </tr>\n",
       "    <tr>\n",
       "      <th>641</th>\n",
       "      <td>250.0</td>\n",
       "      <td>0.0</td>\n",
       "      <td>0.0</td>\n",
       "      <td>182.0</td>\n",
       "      <td>0.0</td>\n",
       "      <td>1100.0</td>\n",
       "      <td>820.0</td>\n",
       "      <td>7</td>\n",
       "      <td>12.73</td>\n",
       "    </tr>\n",
       "    <tr>\n",
       "      <th>486</th>\n",
       "      <td>387.0</td>\n",
       "      <td>20.0</td>\n",
       "      <td>94.0</td>\n",
       "      <td>157.0</td>\n",
       "      <td>13.9</td>\n",
       "      <td>938.0</td>\n",
       "      <td>845.0</td>\n",
       "      <td>28</td>\n",
       "      <td>46.68</td>\n",
       "    </tr>\n",
       "    <tr>\n",
       "      <th>284</th>\n",
       "      <td>181.4</td>\n",
       "      <td>0.0</td>\n",
       "      <td>167.0</td>\n",
       "      <td>169.6</td>\n",
       "      <td>7.6</td>\n",
       "      <td>1055.6</td>\n",
       "      <td>777.8</td>\n",
       "      <td>3</td>\n",
       "      <td>13.62</td>\n",
       "    </tr>\n",
       "  </tbody>\n",
       "</table>\n",
       "</div>"
      ],
      "text/plain": [
       "     Cement  Blast Furnace Slag  Fly Ash  Water  Superplasticizer   \n",
       "525   359.0                19.0    141.0  154.0              10.9  \\\n",
       "996   152.6               238.7      0.0  200.0               6.3   \n",
       "641   250.0                 0.0      0.0  182.0               0.0   \n",
       "486   387.0                20.0     94.0  157.0              13.9   \n",
       "284   181.4                 0.0    167.0  169.6               7.6   \n",
       "\n",
       "     Coarse Aggregate  Fine Aggregate  Age  Strength  \n",
       "525             942.0           801.0    3     25.12  \n",
       "996            1001.8           683.9   28     26.86  \n",
       "641            1100.0           820.0    7     12.73  \n",
       "486             938.0           845.0   28     46.68  \n",
       "284            1055.6           777.8    3     13.62  "
      ]
     },
     "execution_count": 4,
     "metadata": {},
     "output_type": "execute_result"
    }
   ],
   "source": [
    "# load the concrete data into a pandas dataframe\n",
    "data_df = pd.read_csv('https://cocl.us/concrete_data')\n",
    "\n",
    "# get a random sample of the dataframe\n",
    "data_df.sample(5)"
   ]
  },
  {
   "cell_type": "code",
   "execution_count": 5,
   "id": "e2b954c5-2e4f-4560-8a75-17c11d0f6838",
   "metadata": {
    "tags": []
   },
   "outputs": [
    {
     "data": {
      "text/plain": [
       "(1030, 9)"
      ]
     },
     "execution_count": 5,
     "metadata": {},
     "output_type": "execute_result"
    }
   ],
   "source": [
    "# determine the shape of the data (number of samples, columns, etc.)\n",
    "data_df.shape"
   ]
  },
  {
   "cell_type": "markdown",
   "id": "ebea3fe9-bf4c-43ac-aa03-b8e34d96abab",
   "metadata": {},
   "source": [
    "The shape of the data shows us there are 1030 samples and 9 columns. We can then use describe() to generate some summary stats for the columns. "
   ]
  },
  {
   "cell_type": "code",
   "execution_count": 6,
   "id": "d0db27d1-18ed-48b6-9906-a69f378d2d47",
   "metadata": {
    "tags": []
   },
   "outputs": [
    {
     "data": {
      "text/html": [
       "<div>\n",
       "<style scoped>\n",
       "    .dataframe tbody tr th:only-of-type {\n",
       "        vertical-align: middle;\n",
       "    }\n",
       "\n",
       "    .dataframe tbody tr th {\n",
       "        vertical-align: top;\n",
       "    }\n",
       "\n",
       "    .dataframe thead th {\n",
       "        text-align: right;\n",
       "    }\n",
       "</style>\n",
       "<table border=\"1\" class=\"dataframe\">\n",
       "  <thead>\n",
       "    <tr style=\"text-align: right;\">\n",
       "      <th></th>\n",
       "      <th>Cement</th>\n",
       "      <th>Blast Furnace Slag</th>\n",
       "      <th>Fly Ash</th>\n",
       "      <th>Water</th>\n",
       "      <th>Superplasticizer</th>\n",
       "      <th>Coarse Aggregate</th>\n",
       "      <th>Fine Aggregate</th>\n",
       "      <th>Age</th>\n",
       "      <th>Strength</th>\n",
       "    </tr>\n",
       "  </thead>\n",
       "  <tbody>\n",
       "    <tr>\n",
       "      <th>count</th>\n",
       "      <td>1030.000000</td>\n",
       "      <td>1030.000000</td>\n",
       "      <td>1030.000000</td>\n",
       "      <td>1030.000000</td>\n",
       "      <td>1030.000000</td>\n",
       "      <td>1030.000000</td>\n",
       "      <td>1030.000000</td>\n",
       "      <td>1030.000000</td>\n",
       "      <td>1030.000000</td>\n",
       "    </tr>\n",
       "    <tr>\n",
       "      <th>mean</th>\n",
       "      <td>281.167864</td>\n",
       "      <td>73.895825</td>\n",
       "      <td>54.188350</td>\n",
       "      <td>181.567282</td>\n",
       "      <td>6.204660</td>\n",
       "      <td>972.918932</td>\n",
       "      <td>773.580485</td>\n",
       "      <td>45.662136</td>\n",
       "      <td>35.817961</td>\n",
       "    </tr>\n",
       "    <tr>\n",
       "      <th>std</th>\n",
       "      <td>104.506364</td>\n",
       "      <td>86.279342</td>\n",
       "      <td>63.997004</td>\n",
       "      <td>21.354219</td>\n",
       "      <td>5.973841</td>\n",
       "      <td>77.753954</td>\n",
       "      <td>80.175980</td>\n",
       "      <td>63.169912</td>\n",
       "      <td>16.705742</td>\n",
       "    </tr>\n",
       "    <tr>\n",
       "      <th>min</th>\n",
       "      <td>102.000000</td>\n",
       "      <td>0.000000</td>\n",
       "      <td>0.000000</td>\n",
       "      <td>121.800000</td>\n",
       "      <td>0.000000</td>\n",
       "      <td>801.000000</td>\n",
       "      <td>594.000000</td>\n",
       "      <td>1.000000</td>\n",
       "      <td>2.330000</td>\n",
       "    </tr>\n",
       "    <tr>\n",
       "      <th>25%</th>\n",
       "      <td>192.375000</td>\n",
       "      <td>0.000000</td>\n",
       "      <td>0.000000</td>\n",
       "      <td>164.900000</td>\n",
       "      <td>0.000000</td>\n",
       "      <td>932.000000</td>\n",
       "      <td>730.950000</td>\n",
       "      <td>7.000000</td>\n",
       "      <td>23.710000</td>\n",
       "    </tr>\n",
       "    <tr>\n",
       "      <th>50%</th>\n",
       "      <td>272.900000</td>\n",
       "      <td>22.000000</td>\n",
       "      <td>0.000000</td>\n",
       "      <td>185.000000</td>\n",
       "      <td>6.400000</td>\n",
       "      <td>968.000000</td>\n",
       "      <td>779.500000</td>\n",
       "      <td>28.000000</td>\n",
       "      <td>34.445000</td>\n",
       "    </tr>\n",
       "    <tr>\n",
       "      <th>75%</th>\n",
       "      <td>350.000000</td>\n",
       "      <td>142.950000</td>\n",
       "      <td>118.300000</td>\n",
       "      <td>192.000000</td>\n",
       "      <td>10.200000</td>\n",
       "      <td>1029.400000</td>\n",
       "      <td>824.000000</td>\n",
       "      <td>56.000000</td>\n",
       "      <td>46.135000</td>\n",
       "    </tr>\n",
       "    <tr>\n",
       "      <th>max</th>\n",
       "      <td>540.000000</td>\n",
       "      <td>359.400000</td>\n",
       "      <td>200.100000</td>\n",
       "      <td>247.000000</td>\n",
       "      <td>32.200000</td>\n",
       "      <td>1145.000000</td>\n",
       "      <td>992.600000</td>\n",
       "      <td>365.000000</td>\n",
       "      <td>82.600000</td>\n",
       "    </tr>\n",
       "  </tbody>\n",
       "</table>\n",
       "</div>"
      ],
      "text/plain": [
       "            Cement  Blast Furnace Slag      Fly Ash        Water   \n",
       "count  1030.000000         1030.000000  1030.000000  1030.000000  \\\n",
       "mean    281.167864           73.895825    54.188350   181.567282   \n",
       "std     104.506364           86.279342    63.997004    21.354219   \n",
       "min     102.000000            0.000000     0.000000   121.800000   \n",
       "25%     192.375000            0.000000     0.000000   164.900000   \n",
       "50%     272.900000           22.000000     0.000000   185.000000   \n",
       "75%     350.000000          142.950000   118.300000   192.000000   \n",
       "max     540.000000          359.400000   200.100000   247.000000   \n",
       "\n",
       "       Superplasticizer  Coarse Aggregate  Fine Aggregate          Age   \n",
       "count       1030.000000       1030.000000     1030.000000  1030.000000  \\\n",
       "mean           6.204660        972.918932      773.580485    45.662136   \n",
       "std            5.973841         77.753954       80.175980    63.169912   \n",
       "min            0.000000        801.000000      594.000000     1.000000   \n",
       "25%            0.000000        932.000000      730.950000     7.000000   \n",
       "50%            6.400000        968.000000      779.500000    28.000000   \n",
       "75%           10.200000       1029.400000      824.000000    56.000000   \n",
       "max           32.200000       1145.000000      992.600000   365.000000   \n",
       "\n",
       "          Strength  \n",
       "count  1030.000000  \n",
       "mean     35.817961  \n",
       "std      16.705742  \n",
       "min       2.330000  \n",
       "25%      23.710000  \n",
       "50%      34.445000  \n",
       "75%      46.135000  \n",
       "max      82.600000  "
      ]
     },
     "execution_count": 6,
     "metadata": {},
     "output_type": "execute_result"
    }
   ],
   "source": [
    "data_df.describe()"
   ]
  },
  {
   "cell_type": "markdown",
   "id": "2f44ce88-962c-4790-9a86-61c15ee49823",
   "metadata": {},
   "source": [
    "Check if any null values exist"
   ]
  },
  {
   "cell_type": "code",
   "execution_count": 7,
   "id": "5cdda0f8-34f7-4d31-af2d-e33e15946284",
   "metadata": {
    "tags": []
   },
   "outputs": [
    {
     "data": {
      "text/plain": [
       "Cement                0\n",
       "Blast Furnace Slag    0\n",
       "Fly Ash               0\n",
       "Water                 0\n",
       "Superplasticizer      0\n",
       "Coarse Aggregate      0\n",
       "Fine Aggregate        0\n",
       "Age                   0\n",
       "Strength              0\n",
       "dtype: int64"
      ]
     },
     "execution_count": 7,
     "metadata": {},
     "output_type": "execute_result"
    }
   ],
   "source": [
    "data_df.isnull().sum()"
   ]
  },
  {
   "cell_type": "markdown",
   "id": "f76b92e6-26a3-4f32-b38c-29f0479714f6",
   "metadata": {},
   "source": [
    "We separate the X input values and the labels/targets (Y values) from the dataset."
   ]
  },
  {
   "cell_type": "code",
   "execution_count": 8,
   "id": "b2c4dc08-342a-43a0-a36b-873e4a92f0bc",
   "metadata": {
    "tags": []
   },
   "outputs": [],
   "source": [
    "# just drop the label/target column and return a copy instead of a view\n",
    "Xs = data_df.drop(['Strength'], axis=1).copy()\n",
    "\n",
    "# get a copy of the label / target column\n",
    "Ys = data_df['Strength'].copy()"
   ]
  },
  {
   "cell_type": "code",
   "execution_count": 9,
   "id": "cda52b04-8c8f-4f97-b822-0389f584cfb7",
   "metadata": {
    "tags": []
   },
   "outputs": [
    {
     "data": {
      "text/html": [
       "<div>\n",
       "<style scoped>\n",
       "    .dataframe tbody tr th:only-of-type {\n",
       "        vertical-align: middle;\n",
       "    }\n",
       "\n",
       "    .dataframe tbody tr th {\n",
       "        vertical-align: top;\n",
       "    }\n",
       "\n",
       "    .dataframe thead th {\n",
       "        text-align: right;\n",
       "    }\n",
       "</style>\n",
       "<table border=\"1\" class=\"dataframe\">\n",
       "  <thead>\n",
       "    <tr style=\"text-align: right;\">\n",
       "      <th></th>\n",
       "      <th>Cement</th>\n",
       "      <th>Blast Furnace Slag</th>\n",
       "      <th>Fly Ash</th>\n",
       "      <th>Water</th>\n",
       "      <th>Superplasticizer</th>\n",
       "      <th>Coarse Aggregate</th>\n",
       "      <th>Fine Aggregate</th>\n",
       "      <th>Age</th>\n",
       "    </tr>\n",
       "  </thead>\n",
       "  <tbody>\n",
       "    <tr>\n",
       "      <th>171</th>\n",
       "      <td>531.3</td>\n",
       "      <td>0.0</td>\n",
       "      <td>0.0</td>\n",
       "      <td>141.8</td>\n",
       "      <td>28.2</td>\n",
       "      <td>852.1</td>\n",
       "      <td>893.7</td>\n",
       "      <td>91</td>\n",
       "    </tr>\n",
       "    <tr>\n",
       "      <th>86</th>\n",
       "      <td>362.6</td>\n",
       "      <td>189.0</td>\n",
       "      <td>0.0</td>\n",
       "      <td>164.9</td>\n",
       "      <td>11.6</td>\n",
       "      <td>944.7</td>\n",
       "      <td>755.8</td>\n",
       "      <td>3</td>\n",
       "    </tr>\n",
       "    <tr>\n",
       "      <th>331</th>\n",
       "      <td>246.8</td>\n",
       "      <td>0.0</td>\n",
       "      <td>125.1</td>\n",
       "      <td>143.3</td>\n",
       "      <td>12.0</td>\n",
       "      <td>1086.8</td>\n",
       "      <td>800.9</td>\n",
       "      <td>28</td>\n",
       "    </tr>\n",
       "    <tr>\n",
       "      <th>194</th>\n",
       "      <td>194.7</td>\n",
       "      <td>0.0</td>\n",
       "      <td>100.5</td>\n",
       "      <td>165.6</td>\n",
       "      <td>7.5</td>\n",
       "      <td>1006.4</td>\n",
       "      <td>905.9</td>\n",
       "      <td>3</td>\n",
       "    </tr>\n",
       "    <tr>\n",
       "      <th>780</th>\n",
       "      <td>238.0</td>\n",
       "      <td>0.0</td>\n",
       "      <td>0.0</td>\n",
       "      <td>185.0</td>\n",
       "      <td>0.0</td>\n",
       "      <td>1118.0</td>\n",
       "      <td>789.0</td>\n",
       "      <td>28</td>\n",
       "    </tr>\n",
       "  </tbody>\n",
       "</table>\n",
       "</div>"
      ],
      "text/plain": [
       "     Cement  Blast Furnace Slag  Fly Ash  Water  Superplasticizer   \n",
       "171   531.3                 0.0      0.0  141.8              28.2  \\\n",
       "86    362.6               189.0      0.0  164.9              11.6   \n",
       "331   246.8                 0.0    125.1  143.3              12.0   \n",
       "194   194.7                 0.0    100.5  165.6               7.5   \n",
       "780   238.0                 0.0      0.0  185.0               0.0   \n",
       "\n",
       "     Coarse Aggregate  Fine Aggregate  Age  \n",
       "171             852.1           893.7   91  \n",
       "86              944.7           755.8    3  \n",
       "331            1086.8           800.9   28  \n",
       "194            1006.4           905.9    3  \n",
       "780            1118.0           789.0   28  "
      ]
     },
     "execution_count": 9,
     "metadata": {},
     "output_type": "execute_result"
    }
   ],
   "source": [
    "Xs.sample(5)"
   ]
  },
  {
   "cell_type": "code",
   "execution_count": 10,
   "id": "15db2713-1aee-44e8-ba8b-8021b7b1b7f6",
   "metadata": {
    "tags": []
   },
   "outputs": [
    {
     "data": {
      "text/plain": [
       "847    52.82\n",
       "67     30.28\n",
       "921     9.74\n",
       "416    15.61\n",
       "138    49.90\n",
       "Name: Strength, dtype: float64"
      ]
     },
     "execution_count": 10,
     "metadata": {},
     "output_type": "execute_result"
    }
   ],
   "source": [
    "Ys.sample(5)"
   ]
  },
  {
   "cell_type": "markdown",
   "id": "9068f87b-6077-4cda-8ad2-33794c436556",
   "metadata": {},
   "source": [
    "## Implement Trial Testing for Part A ##"
   ]
  },
  {
   "cell_type": "code",
   "execution_count": 11,
   "id": "7ec89b28-0f62-46ed-8254-a4dc61a8b1bc",
   "metadata": {},
   "outputs": [],
   "source": [
    "# implement a function that can satisfy the above requirements taking the prepared data to fit\n",
    "# override the default params with the objective's requirements\n",
    "def train_and_evaluate_baseline(Xs, Ys, n_trials=50, n_epochs=50, hidden_layers=[20, 20, 20]):\n",
    "    \"\"\"\n",
    "    this function will implement the requirements for section A\n",
    "    pass in the X and Y values and the number of trials to conduct\n",
    "    \"\"\"\n",
    "    # placeholder to store the mse results from each iteration\n",
    "    mse_results = np.zeros((n_trials)) \n",
    "    \n",
    "    trial_histories = []\n",
    "    \n",
    "    for i in range(n_trials):\n",
    "        \n",
    "        # get the train/test split\n",
    "        X_train, X_test, Y_train, Y_test = train_test_split(\n",
    "            Xs.to_numpy(), \n",
    "            Ys.to_numpy(), \n",
    "            train_size=0.7)\n",
    "        \n",
    "        # get the input shape for the model (the number of columns)\n",
    "        input_shape = X_train.shape[1]\n",
    "        \n",
    "        # build the model\n",
    "        model = build_model(input_shape, hidden_layers, n_out=1)\n",
    "        \n",
    "        # fit the model\n",
    "        history = model.fit(X_train, Y_train, validation_data=(X_test, Y_test), epochs=n_epochs, verbose=0)\n",
    "        \n",
    "        # save the train loss / validation loss from the model\n",
    "        trial_histories.append(history.history)\n",
    "        \n",
    "        # get the predictions for the test data from the fitted model\n",
    "        preds = model.predict(X_test, verbose=0)\n",
    "        \n",
    "        # get the mean squared error from the fitted model using the predictions\n",
    "        mse = mean_squared_error(Y_test, preds)\n",
    "        \n",
    "        # add the mean squared error from the predictions vs ground truth to the results array\n",
    "        mse_results[i] = mse\n",
    "        \n",
    "    return mse_results, trial_histories\n",
    "        \n",
    "        "
   ]
  },
  {
   "cell_type": "markdown",
   "id": "94108ed7-b254-4f89-a110-5c22800a7f46",
   "metadata": {},
   "source": [
    "For the first test, we are asked to train for 50 epochs, run 50 trials and one hidden layer of 10 nodes. "
   ]
  },
  {
   "cell_type": "code",
   "execution_count": 12,
   "id": "f50c0ccb-8eb5-46e0-9538-4deefa9b316e",
   "metadata": {},
   "outputs": [],
   "source": [
    "# we get the results of the evaluations as a numpy array of MSE scores\n",
    "mse_results, trial_histories = train_and_evaluate_baseline(Xs, Ys, n_trials = 50, n_epochs=50, hidden_layers=[10])"
   ]
  },
  {
   "cell_type": "markdown",
   "id": "a2cbd150-484f-46a8-9ad7-ecbf46fc1845",
   "metadata": {},
   "source": [
    "## Evaluate the Results ##"
   ]
  },
  {
   "cell_type": "code",
   "execution_count": 13,
   "id": "748373e5-8b79-44ce-a651-73c5f2a443da",
   "metadata": {},
   "outputs": [
    {
     "name": "stdout",
     "output_type": "stream",
     "text": [
      "Got results from 50 trials\n",
      "Trial results: \n",
      "Mean of the MSEs: 520.9821628817358 Standard deviation of the MSEs 44.98304276206496\n"
     ]
    }
   ],
   "source": [
    "print(\"Got results from {} trials\".format(len(mse_results)))\n",
    "print(\"Trial results: \\nMean of the MSEs: {0} Standard deviation of the MSEs {1}\".format(mse_results.mean(), mse_results.std()))"
   ]
  },
  {
   "cell_type": "code",
   "execution_count": 14,
   "id": "fef8c019-e292-4e7c-bf2b-fb37aa023687",
   "metadata": {},
   "outputs": [
    {
     "data": {
      "text/plain": [
       "<matplotlib.collections.PathCollection at 0x285ffb7a550>"
      ]
     },
     "execution_count": 14,
     "metadata": {},
     "output_type": "execute_result"
    },
    {
     "data": {
      "image/png": "[encoded data removed]",
      "text/plain": [
       "<Figure size 640x480 with 1 Axes>"
      ]
     },
     "metadata": {},
     "output_type": "display_data"
    }
   ],
   "source": [
    "# visualize the distribution of MSEs across the 50 trials\n",
    "import matplotlib.pyplot as plt\n",
    "plt.scatter([i for i in range(len(mse_results))], mse_results)"
   ]
  },
  {
   "cell_type": "markdown",
   "id": "045b242e-7cac-4d80-9675-46abffb54beb",
   "metadata": {},
   "source": [
    "It's usueful to review the training / validation loss curves to see if the model is overfit or if train/valid losses are diverging"
   ]
  },
  {
   "cell_type": "code",
   "execution_count": 15,
   "id": "64da677b-8dd0-486c-95dd-5f66881fd1b7",
   "metadata": {
    "tags": []
   },
   "outputs": [
    {
     "data": {
      "image/png": "[encoded data removed]",
      "text/plain": [
       "<Figure size 640x480 with 1 Axes>"
      ]
     },
     "metadata": {},
     "output_type": "display_data"
    },
    {
     "data": {
      "image/png": "[encoded data removed]",
      "text/plain": [
       "<Figure size 640x480 with 1 Axes>"
      ]
     },
     "metadata": {},
     "output_type": "display_data"
    }
   ],
   "source": [
    "# plot a couple of the training / validation loss curves from the trial results\n",
    "plt.plot(trial_histories[0][\"loss\"], color='red', label=\"Training Loss\")\n",
    "plt.plot(trial_histories[1][\"val_loss\"], color='blue', label=\"Validation Loss\")\n",
    "plt.legend()\n",
    "plt.show()\n",
    "\n",
    "plt.plot(trial_histories[0][\"loss\"], color='red', label=\"Training Loss\")\n",
    "plt.plot(trial_histories[1][\"val_loss\"], color='blue', label=\"Validation Loss\")\n",
    "plt.legend()\n",
    "plt.show()"
   ]
  },
  {
   "cell_type": "code",
   "execution_count": null,
   "id": "e42fff05-4e36-41f6-a8d3-411aca175759",
   "metadata": {},
   "outputs": [],
   "source": []
  }
 ],
 "metadata": {
  "kernelspec": {
   "display_name": "Python 3 (ipykernel)",
   "language": "python",
   "name": "python3"
  },
  "language_info": {
   "codemirror_mode": {
    "name": "ipython",
    "version": 3
   },
   "file_extension": ".py",
   "mimetype": "text/x-python",
   "name": "python",
   "nbconvert_exporter": "python",
   "pygments_lexer": "ipython3",
   "version": "3.11.3"
  }
 },
 "nbformat": 4,
 "nbformat_minor": 5
}
